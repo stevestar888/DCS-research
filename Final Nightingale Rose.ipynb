{
 "cells": [
  {
   "cell_type": "markdown",
   "metadata": {},
   "source": [
    "# Nightingale Rose Activity"
   ]
  },
  {
   "cell_type": "markdown",
   "metadata": {},
   "source": [
    "### Please refer to the in class handout for a brief history of the classic graphic: Nightingale's Rose.  This is a visual display of mortality data from the Crimean War starting in 1854.  \n",
    "\n",
    "We will be using the **ggplot2**, **HistData** and **reshape** packages.  Also RColorBrewer so we can brew up some nice color schemes."
   ]
  },
  {
   "cell_type": "code",
   "execution_count": 1,
   "metadata": {},
   "outputs": [],
   "source": [
    "library(HistData)\n",
    "library(reshape)\n",
    "library(ggplot2)\n",
    "library(RColorBrewer)"
   ]
  },
  {
   "cell_type": "markdown",
   "metadata": {},
   "source": [
    "This activity is going to involve reshaping our data so let's try to reshape a simple data frame shown below:"
   ]
  },
  {
   "cell_type": "code",
   "execution_count": 2,
   "metadata": {},
   "outputs": [
    {
     "data": {
      "text/html": [
       "<table>\n",
       "<thead><tr><th scope=col>M</th><th scope=col>T</th><th scope=col>W</th></tr></thead>\n",
       "<tbody>\n",
       "\t<tr><td>5 </td><td> 6</td><td> 8</td></tr>\n",
       "\t<tr><td>7 </td><td>10</td><td>15</td></tr>\n",
       "</tbody>\n",
       "</table>\n"
      ],
      "text/latex": [
       "\\begin{tabular}{r|lll}\n",
       " M & T & W\\\\\n",
       "\\hline\n",
       "\t 5  &  6 &  8\\\\\n",
       "\t 7  & 10 & 15\\\\\n",
       "\\end{tabular}\n"
      ],
      "text/markdown": [
       "\n",
       "M | T | W | \n",
       "|---|---|\n",
       "| 5  |  6 |  8 | \n",
       "| 7  | 10 | 15 | \n",
       "\n",
       "\n"
      ],
      "text/plain": [
       "  M T  W \n",
       "1 5  6  8\n",
       "2 7 10 15"
      ]
     },
     "metadata": {},
     "output_type": "display_data"
    },
    {
     "data": {
      "text/html": [
       "<table>\n",
       "<thead><tr><th></th><th scope=col>M</th><th scope=col>T</th><th scope=col>W</th></tr></thead>\n",
       "<tbody>\n",
       "\t<tr><th scope=row>2009</th><td>5 </td><td> 6</td><td> 8</td></tr>\n",
       "\t<tr><th scope=row>2014</th><td>7 </td><td>10</td><td>15</td></tr>\n",
       "</tbody>\n",
       "</table>\n"
      ],
      "text/latex": [
       "\\begin{tabular}{r|lll}\n",
       "  & M & T & W\\\\\n",
       "\\hline\n",
       "\t2009 & 5  &  6 &  8\\\\\n",
       "\t2014 & 7  & 10 & 15\\\\\n",
       "\\end{tabular}\n"
      ],
      "text/markdown": [
       "\n",
       "| <!--/--> | M | T | W | \n",
       "|---|---|\n",
       "| 2009 | 5  |  6 |  8 | \n",
       "| 2014 | 7  | 10 | 15 | \n",
       "\n",
       "\n"
      ],
      "text/plain": [
       "     M T  W \n",
       "2009 5  6  8\n",
       "2014 7 10 15"
      ]
     },
     "metadata": {},
     "output_type": "display_data"
    }
   ],
   "source": [
    "df <- data.frame(M = c(5,7), T = c(6,10), W = c(8,15))\n",
    "df\n",
    "rownames(df) = c(2009, 2014)\n",
    "df"
   ]
  },
  {
   "cell_type": "markdown",
   "metadata": {},
   "source": [
    "### 1.   We would like to make two lines, one for each year with the days on the x-axis.  In Excel you would just highlight this data and click on line chart.  In R we need to reshape the data.  \n",
    "\n",
    "#### There are 6 data points or observations, so we will need 6 rows in our R data.frame with 3 columns: \n",
    "* one for the Year, \n",
    "* one for the Day, \n",
    "* one for the Value.\n",
    "\n",
    "Create such a data frame called *df2*:"
   ]
  },
  {
   "cell_type": "code",
   "execution_count": 6,
   "metadata": {},
   "outputs": [
    {
     "data": {
      "text/html": [
       "<table>\n",
       "<thead><tr><th scope=col>Year</th><th scope=col>Day</th><th scope=col>Value</th></tr></thead>\n",
       "<tbody>\n",
       "\t<tr><td>2009</td><td>M   </td><td>6   </td></tr>\n",
       "\t<tr><td>2014</td><td>T   </td><td>3   </td></tr>\n",
       "</tbody>\n",
       "</table>\n"
      ],
      "text/latex": [
       "\\begin{tabular}{r|lll}\n",
       " Year & Day & Value\\\\\n",
       "\\hline\n",
       "\t 2009 & M    & 6   \\\\\n",
       "\t 2014 & T    & 3   \\\\\n",
       "\\end{tabular}\n"
      ],
      "text/markdown": [
       "\n",
       "Year | Day | Value | \n",
       "|---|---|\n",
       "| 2009 | M    | 6    | \n",
       "| 2014 | T    | 3    | \n",
       "\n",
       "\n"
      ],
      "text/plain": [
       "  Year Day Value\n",
       "1 2009 M   6    \n",
       "2 2014 T   3    "
      ]
     },
     "metadata": {},
     "output_type": "display_data"
    }
   ],
   "source": [
    "df2<- data.frame (Year= c(2009,2014), Day= c(\"M\",\"T\"), Value= c(6,3))\n",
    "df2"
   ]
  },
  {
   "cell_type": "markdown",
   "metadata": {},
   "source": [
    "### If only there was some function that could this for us...\n",
    "* Add a new variable to **df** called *Year* that contains the rownames of **df**\n",
    "* Use the **melt** function to melt **df** by Year\n",
    "* Take a look at **df_melt** and see what it did :O)"
   ]
  },
  {
   "cell_type": "code",
   "execution_count": 7,
   "metadata": {},
   "outputs": [
    {
     "data": {
      "text/html": [
       "<table>\n",
       "<thead><tr><th scope=col>Year</th><th scope=col>variable</th><th scope=col>value</th></tr></thead>\n",
       "<tbody>\n",
       "\t<tr><td>2009</td><td>M   </td><td> 5  </td></tr>\n",
       "\t<tr><td>2014</td><td>M   </td><td> 7  </td></tr>\n",
       "\t<tr><td>2009</td><td>T   </td><td> 6  </td></tr>\n",
       "\t<tr><td>2014</td><td>T   </td><td>10  </td></tr>\n",
       "\t<tr><td>2009</td><td>W   </td><td> 8  </td></tr>\n",
       "\t<tr><td>2014</td><td>W   </td><td>15  </td></tr>\n",
       "</tbody>\n",
       "</table>\n"
      ],
      "text/latex": [
       "\\begin{tabular}{r|lll}\n",
       " Year & variable & value\\\\\n",
       "\\hline\n",
       "\t 2009 & M    &  5  \\\\\n",
       "\t 2014 & M    &  7  \\\\\n",
       "\t 2009 & T    &  6  \\\\\n",
       "\t 2014 & T    & 10  \\\\\n",
       "\t 2009 & W    &  8  \\\\\n",
       "\t 2014 & W    & 15  \\\\\n",
       "\\end{tabular}\n"
      ],
      "text/markdown": [
       "\n",
       "Year | variable | value | \n",
       "|---|---|---|---|---|---|\n",
       "| 2009 | M    |  5   | \n",
       "| 2014 | M    |  7   | \n",
       "| 2009 | T    |  6   | \n",
       "| 2014 | T    | 10   | \n",
       "| 2009 | W    |  8   | \n",
       "| 2014 | W    | 15   | \n",
       "\n",
       "\n"
      ],
      "text/plain": [
       "  Year variable value\n",
       "1 2009 M         5   \n",
       "2 2014 M         7   \n",
       "3 2009 T         6   \n",
       "4 2014 T        10   \n",
       "5 2009 W         8   \n",
       "6 2014 W        15   "
      ]
     },
     "metadata": {},
     "output_type": "display_data"
    }
   ],
   "source": [
    "# add a variable named Year to df...\n",
    "df$Year<-rownames(df) \n",
    "df_melt <- melt(df, \"Year\")\n",
    "df_melt"
   ]
  },
  {
   "cell_type": "markdown",
   "metadata": {},
   "source": [
    "### Now we can plot points with Value on the y-axis and Day on x-axis, color and group by Year, use factor on the Year for discrete colors, and add in a geom_line."
   ]
  },
  {
   "cell_type": "code",
   "execution_count": null,
   "metadata": {
    "scrolled": false
   },
   "outputs": [],
   "source": [
    "ggplot(df2, aes(Day, Value, color = Year, group = Year)) + geom_line()\n",
    "ggplot(df2, aes(Day, Value, color = factor(Year), group = Year)) + geom_line()"
   ]
  },
  {
   "cell_type": "markdown",
   "metadata": {},
   "source": [
    "### 2.  Too cool for school.  HistData contains a data set called *Nightingale*, look at the head and dim of this."
   ]
  },
  {
   "cell_type": "code",
   "execution_count": null,
   "metadata": {},
   "outputs": [],
   "source": [
    "head(Nightingale)\n",
    "dim(Nightingale)"
   ]
  },
  {
   "cell_type": "markdown",
   "metadata": {},
   "source": [
    "###  3.  We are only interested in columns 1 and 8-10.  Create a subset data.frame called *Night* that contains only these columns.  Look at the head and dimension."
   ]
  },
  {
   "cell_type": "code",
   "execution_count": null,
   "metadata": {},
   "outputs": [],
   "source": [
    "Night<- Nightingale[ ,c(1,8:10)]\n",
    "head(Night)"
   ]
  },
  {
   "cell_type": "markdown",
   "metadata": {},
   "source": [
    "### Now we use the melt function to reshape the data automatically like we did manually above for the lines.\n",
    "* melt Night by Date"
   ]
  },
  {
   "cell_type": "code",
   "execution_count": null,
   "metadata": {},
   "outputs": [],
   "source": [
    "N_melt <- melt(Night, \"Date\")\n",
    "head(N_melt)\n",
    "dim(N_melt)"
   ]
  },
  {
   "cell_type": "markdown",
   "metadata": {},
   "source": [
    "### 4.  Explain what *melt* did to Night."
   ]
  },
  {
   "cell_type": "markdown",
   "metadata": {},
   "source": [
    "Melt took the data and transformed it froma. table format to another table, where each data point has a row.  "
   ]
  },
  {
   "cell_type": "code",
   "execution_count": null,
   "metadata": {},
   "outputs": [],
   "source": [
    "names(N_melt) <- c(\"Date\", \"Cause\", \"Deaths\")\n",
    "N_melt$Cause <- sub(\"\\\\.rate\", \"\", N_melt$Cause)\n",
    "N_melt$Regime <- ordered( rep(c(rep('Before', 12), rep('After', 12)), 3), \n",
    "                         levels=c('Before', 'After'))\n",
    "head(N_melt)\n",
    "dim(N_melt)"
   ]
  },
  {
   "cell_type": "markdown",
   "metadata": {},
   "source": [
    "###  5.  Ummmm, before and after what?\n",
    "* What does that **sub** function do?"
   ]
  },
  {
   "cell_type": "markdown",
   "metadata": {},
   "source": [
    "\"Before\" is the first year (before sanitary commission allowed them to come in) and \"After\" for the data after the sanitary commission was allowed in. "
   ]
  },
  {
   "cell_type": "markdown",
   "metadata": {},
   "source": [
    "#### Dates and time have their own special syntax in R, below you see code taking a date format and pulling out the month and year."
   ]
  },
  {
   "cell_type": "code",
   "execution_count": null,
   "metadata": {},
   "outputs": [],
   "source": [
    "N_melt$Month <- format(N_melt$Date, \"%b %Y\")\n",
    "head(N_melt)"
   ]
  },
  {
   "cell_type": "markdown",
   "metadata": {},
   "source": [
    "### Now we see before and after as subsets:"
   ]
  },
  {
   "cell_type": "code",
   "execution_count": null,
   "metadata": {},
   "outputs": [],
   "source": [
    "Night1 <- subset(N_melt, Date < as.Date(\"1855-04-01\"))\n",
    "Night2 <- subset(N_melt, Date >= as.Date(\"1855-04-01\"))\n",
    "head(Night1)\n",
    "head(Night2)\n"
   ]
  },
  {
   "cell_type": "markdown",
   "metadata": {},
   "source": [
    "### Now for the plotting.  The radial plots are referred to as coxcomb plots."
   ]
  },
  {
   "cell_type": "code",
   "execution_count": null,
   "metadata": {},
   "outputs": [],
   "source": [
    "cxc1 <- ggplot(Night1, aes(x = factor(Date), y=Deaths, fill = Cause)) +\n",
    "# do it as a stacked bar chart first\n",
    "  geom_bar(width = 1, stat=\"identity\", color=\"black\") +\n",
    "# set scale so area ~ Deaths    \n",
    "  scale_y_sqrt() \n",
    "\n",
    "cxc1"
   ]
  },
  {
   "cell_type": "code",
   "execution_count": null,
   "metadata": {},
   "outputs": [],
   "source": [
    "# A coxcomb plot = bar chart + polar coordinates\n",
    "cxc1 + coord_polar(start=3*pi/2) + \n",
    " ggtitle(\"Causes of Mortality in the Army in the East\") + \n",
    " xlab(\"\")"
   ]
  },
  {
   "cell_type": "markdown",
   "metadata": {},
   "source": [
    "# Wooooohoooooo!!!!!  \n",
    "This graph is so nice, very nice, it's very very impressive.  We have the best graphs in the world.  It's a wonderful thing what we are able to graph."
   ]
  },
  {
   "cell_type": "markdown",
   "metadata": {},
   "source": [
    "### 6.  Make an After plot."
   ]
  },
  {
   "cell_type": "code",
   "execution_count": null,
   "metadata": {},
   "outputs": [],
   "source": []
  },
  {
   "cell_type": "markdown",
   "metadata": {},
   "source": [
    "## Now make them both together Just like Flo did and choose your favorite color scheme:"
   ]
  },
  {
   "cell_type": "code",
   "execution_count": null,
   "metadata": {},
   "outputs": [],
   "source": [
    "display.brewer.all()"
   ]
  },
  {
   "cell_type": "code",
   "execution_count": null,
   "metadata": {},
   "outputs": [],
   "source": [
    "# do both together, with faceting\n",
    "cxc <- ggplot(N_melt, aes(x = factor(Date), y=Deaths, fill = Cause)) +\n",
    "  geom_bar(width = 1, stat=\"identity\", color=\"black\") + \n",
    "  scale_y_sqrt() +\n",
    "  facet_grid(. ~ Regime, scales=\"free\", labeller=label_both) +\n",
    "    scale_fill_brewer(palette = \"RdBu\")\n",
    "\n",
    "cxc + coord_polar(start=3*pi/2) +\n",
    "  ggtitle(\"Causes of Mortality in the Army in the East\") + \n",
    "  xlab(\"\") \n",
    "    "
   ]
  },
  {
   "cell_type": "markdown",
   "metadata": {},
   "source": [
    "###  7.  What the facet!?  That's beautiful (kind of squashy but still very very nice).  What's the point?  What story does this graphic tell?"
   ]
  },
  {
   "cell_type": "markdown",
   "metadata": {},
   "source": []
  },
  {
   "cell_type": "markdown",
   "metadata": {},
   "source": [
    "### 8.  What if Flo had chosen line graphs?  Would it have been as compelling?"
   ]
  },
  {
   "cell_type": "markdown",
   "metadata": {},
   "source": [
    "Type Markdown and LaTeX: $\\alpha^{2}$"
   ]
  },
  {
   "cell_type": "code",
   "execution_count": null,
   "metadata": {},
   "outputs": [],
   "source": [
    "colors <- c(\"blue\", \"red\", \"black\")\n",
    "with(Nightingale, {\n",
    "  plot(Date, Disease.rate, type=\"n\", col=\"blue\", \n",
    "    ylab=\"Annual Death Rate\", xlab=\"Date\", xaxt=\"n\",\n",
    "    main=\"Causes of Mortality of the British Army in the East\");\n",
    "# background, to separate before, after\n",
    "    rect(as.Date(\"1854/4/1\"), -10, as.Date(\"1855/3/1\"), \n",
    "    1.02*max(Disease.rate), col=\"lightgray\", border=\"transparent\");\n",
    "      text( as.Date(\"1854/4/1\"), .98*max(Disease.rate), \"Before Sanitary\\nCommission\", pos=4);\n",
    "      text( as.Date(\"1855/4/1\"), .98*max(Disease.rate), \"After Sanitary\\nCommission\", pos=4);\n",
    "# plot the data\n",
    "  points(Date, Disease.rate, type=\"b\", col=colors[1]);\n",
    "  points(Date, Wounds.rate, type=\"b\", col=colors[2]);\n",
    "  points(Date, Other.rate, type=\"b\", col=colors[3])\n",
    "        }\n",
    "          )\n",
    "# add custom Date axis and legend\n",
    "axis.Date(1, at=seq(as.Date(\"1854/4/1\"), as.Date(\"1856/3/1\"), \"4 months\"), format=\"%b %Y\")\n",
    "legend(as.Date(\"1855/10/20\"), 700, c(\"Disease\", \"Wounds\", \"Other\"),\n",
    "      col=colors, fill=colors, title=\"Cause\")"
   ]
  },
  {
   "cell_type": "markdown",
   "metadata": {},
   "source": [
    "# Bubbles!\n",
    "Fun bubble scatterplot to finish up.  Read in the crimedata csv and take a look, find the dim."
   ]
  },
  {
   "cell_type": "code",
   "execution_count": null,
   "metadata": {},
   "outputs": [],
   "source": []
  },
  {
   "cell_type": "markdown",
   "metadata": {},
   "source": [
    "### 9.  Create scatterplot of burglary against murder."
   ]
  },
  {
   "cell_type": "code",
   "execution_count": null,
   "metadata": {},
   "outputs": [],
   "source": []
  },
  {
   "cell_type": "markdown",
   "metadata": {},
   "source": [
    "### 10.  Fund out who that poor fella is way off to the right and remove that row from data frame.  Replot.\n",
    "Note I named the new dataframe *crime4* and used that below to make bubble chart :O)"
   ]
  },
  {
   "cell_type": "code",
   "execution_count": null,
   "metadata": {},
   "outputs": [],
   "source": []
  },
  {
   "cell_type": "markdown",
   "metadata": {},
   "source": [
    "# Now make bubbles!!!"
   ]
  },
  {
   "cell_type": "code",
   "execution_count": null,
   "metadata": {},
   "outputs": [],
   "source": [
    "symbols(crime4$murder, crime4$burglary, circles = crime4$population)\n",
    "\n",
    "radius = sqrt(crime4$population/pi)\n",
    "\n",
    "symbols(crime4$murder, crime4$burglary, circles = radius, inches = 0.35, \n",
    "        fg = \"white\", bg = \"red\", xlab = \"Murder Rates\", ylab = \"Burglary Rates\", main = \"Rates per 100,000\")\n",
    "\n",
    "text(crime4$murder, crime4$burglary, crime4$state, cex = 0.5)"
   ]
  },
  {
   "cell_type": "markdown",
   "metadata": {},
   "source": [
    "### 11. Last question.  What is the radis line of code doing?  Why is it necessary?"
   ]
  },
  {
   "cell_type": "markdown",
   "metadata": {},
   "source": [
    "Type Markdown and LaTeX: $\\alpha^{2}$"
   ]
  }
 ],
 "metadata": {
  "anaconda-cloud": {},
  "kernelspec": {
   "display_name": "R",
   "language": "R",
   "name": "ir"
  },
  "language_info": {
   "codemirror_mode": "r",
   "file_extension": ".r",
   "mimetype": "text/x-r-source",
   "name": "R",
   "pygments_lexer": "r",
   "version": "3.5.2"
  }
 },
 "nbformat": 4,
 "nbformat_minor": 1
}
